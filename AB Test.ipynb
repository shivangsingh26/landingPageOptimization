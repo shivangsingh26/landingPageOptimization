{
 "cells": [
  {
   "metadata": {},
   "cell_type": "markdown",
   "source": [
    "# Hypothesis \n",
    "\n",
    "H0 : Pcontrol = Pexperiment\n",
    "\n",
    "H1 : Pcontrol != Pexperiment\n",
    "\n",
    "Pcontrol : Probability of clicking the button in the control group\n",
    "Pexperiment : Probability of clicking the button in the experiment group\n",
    "\n",
    "In this project we will perform a two-tailed Z-test to determine if the difference in the click-through rates between the control and experiment groups is statistically significant. \n",
    "\n",
    "We will also calculate the confidence interval and minimum detectable effect size to determine if the difference is practically significant.\n"
   ],
   "id": "a53d032b587caafe"
  },
  {
   "metadata": {},
   "cell_type": "markdown",
   "source": "# Importing Libraries",
   "id": "60e6f4dd729c6aca"
  },
  {
   "cell_type": "code",
   "id": "initial_id",
   "metadata": {
    "collapsed": true,
    "ExecuteTime": {
     "end_time": "2024-06-18T19:23:10.079424Z",
     "start_time": "2024-06-18T19:23:08.638965Z"
    }
   },
   "source": [
    "import numpy as np\n",
    "import pandas as pd\n",
    "import seaborn as sns\n",
    "import matplotlib.pyplot as plt\n",
    "import scipy.stats as stats"
   ],
   "outputs": [],
   "execution_count": 2
  },
  {
   "metadata": {},
   "cell_type": "markdown",
   "source": "Some Data Preprocessing and Visualization",
   "id": "ba9cd61addd04150"
  },
  {
   "metadata": {
    "ExecuteTime": {
     "end_time": "2024-06-18T19:36:23.139429Z",
     "start_time": "2024-06-18T19:36:23.120212Z"
    }
   },
   "cell_type": "code",
   "source": [
    "#It is simulated data\n",
    "df = pd.read_csv(\"ab_test_click_data (1).csv\")\n",
    "\n",
    "print(df.head())\n",
    "print(df.describe())"
   ],
   "id": "fcfe204f1be3cf76",
   "outputs": [
    {
     "name": "stdout",
     "output_type": "stream",
     "text": [
      "   user_id  click group            timestamp\n",
      "0        1      1   exp  2024-01-01 00:00:00\n",
      "1        2      0   exp  2024-01-01 00:01:00\n",
      "2        3      1   exp  2024-01-01 00:02:00\n",
      "3        4      0   exp  2024-01-01 00:03:00\n",
      "4        5      1   exp  2024-01-01 00:04:00\n",
      "            user_id         click\n",
      "count  20000.000000  20000.000000\n",
      "mean   10000.500000      0.405250\n",
      "std     5773.647028      0.490953\n",
      "min        1.000000      0.000000\n",
      "25%     5000.750000      0.000000\n",
      "50%    10000.500000      0.000000\n",
      "75%    15000.250000      1.000000\n",
      "max    20000.000000      1.000000\n"
     ]
    }
   ],
   "execution_count": 19
  },
  {
   "metadata": {
    "ExecuteTime": {
     "end_time": "2024-06-18T19:33:04.425493Z",
     "start_time": "2024-06-18T19:33:04.421304Z"
    }
   },
   "cell_type": "code",
   "source": "df.columns",
   "id": "4a8ce21fb11b5464",
   "outputs": [
    {
     "data": {
      "text/plain": [
       "Index(['user_id', 'click', 'group', 'timestamp'], dtype='object')"
      ]
     },
     "execution_count": 11,
     "metadata": {},
     "output_type": "execute_result"
    }
   ],
   "execution_count": 11
  },
  {
   "metadata": {
    "ExecuteTime": {
     "end_time": "2024-06-18T19:33:12.313910Z",
     "start_time": "2024-06-18T19:33:12.308777Z"
    }
   },
   "cell_type": "code",
   "source": [
    "#Timestamp is not necessary for our analysis for now\n",
    "df.drop(\"timestamp\", axis=1, inplace=True)\n",
    "print(df.head())"
   ],
   "id": "1dc908e20a7ba90a",
   "outputs": [
    {
     "name": "stdout",
     "output_type": "stream",
     "text": [
      "   user_id  click group\n",
      "0        1      1   exp\n",
      "1        2      0   exp\n",
      "2        3      1   exp\n",
      "3        4      0   exp\n",
      "4        5      1   exp\n"
     ]
    }
   ],
   "execution_count": 12
  },
  {
   "metadata": {
    "ExecuteTime": {
     "end_time": "2024-06-18T19:58:46.163556Z",
     "start_time": "2024-06-18T19:58:46.157015Z"
    }
   },
   "cell_type": "code",
   "source": "df.groupby(\"group\")['click'].sum()",
   "id": "1196751a28b3a72e",
   "outputs": [
    {
     "data": {
      "text/plain": [
       "group\n",
       "con    1989\n",
       "exp    6116\n",
       "Name: click, dtype: int64"
      ]
     },
     "execution_count": 29,
     "metadata": {},
     "output_type": "execute_result"
    }
   ],
   "execution_count": 29
  },
  {
   "metadata": {},
   "cell_type": "markdown",
   "source": "We can see that in the control group 1989 people clicked and in the experiment group 6116 people clicked.",
   "id": "a9a24483e5875348"
  },
  {
   "metadata": {},
   "cell_type": "markdown",
   "source": "Visualizing the distribution of the clicks using a bar plot",
   "id": "4f2a27a7862b987c"
  },
  {
   "metadata": {
    "ExecuteTime": {
     "end_time": "2024-06-18T19:47:23.176457Z",
     "start_time": "2024-06-18T19:47:22.896298Z"
    }
   },
   "cell_type": "code",
   "source": [
    "# Custom palette for yellow and black\n",
    "palette = {0: 'yellow', 1: 'blue'}  # Assuming 0 is for no-click, 1 for click\n",
    "\n",
    "# Plotting the click distribution for each group with the custom colors\n",
    "plt.figure(figsize=(10, 6))\n",
    "ax = sns.countplot(x='group', hue='click', data=df, palette=palette)\n",
    "plt.title('Click Distribution in Experimental and Control Groups')\n",
    "plt.xlabel('Group')\n",
    "plt.ylabel('Count')\n",
    "plt.legend(title='Click', labels=['No', 'Yes'])\n",
    "\n",
    "# Calculate the percentages and annotate the bars\n",
    "group_counts = df.groupby(['group']).size()\n",
    "print(group_counts)\n",
    "group_click_counts = df.groupby(['group', 'click']).size().reset_index(name='count')\n",
    "\n",
    "for p in ax.patches:\n",
    "    height = p.get_height()\n",
    "    # Find the group and click type for the current bar\n",
    "    group = 'exp' if p.get_x() < 0.5 else 'con'\n",
    "    click = 1 if p.get_x() % 1 > 0.5 else 0\n",
    "    total = group_counts.loc[group]\n",
    "    percentage = 100 * height / total\n",
    "    ax.text(p.get_x() + p.get_width() / 2., height + 5, f'{percentage:.1f}%', ha=\"center\", color='black', fontsize=10)\n",
    "\n",
    "plt.tight_layout()\n",
    "plt.show()"
   ],
   "id": "f485889ef14b582",
   "outputs": [
    {
     "name": "stdout",
     "output_type": "stream",
     "text": [
      "group\n",
      "con    10000\n",
      "exp    10000\n",
      "dtype: int64\n"
     ]
    },
    {
     "data": {
      "text/plain": [
       "<Figure size 1000x600 with 1 Axes>"
      ],
      "image/png": "[encoded data removed]"
     },
     "metadata": {},
     "output_type": "display_data"
    }
   ],
   "execution_count": 22
  },
  {
   "metadata": {},
   "cell_type": "markdown",
   "source": [
    "# Power Analysis\n",
    "\n",
    "**beta** -> probability of making a type II error (false negative)\n",
    "\n",
    "**alpha** -> probability of making a type I error (false positive)\n",
    "\n",
    "**1-beta** -> power of the test\n",
    "\n",
    "**delta** -> minimum detectable effectt size"
   ],
   "id": "878d4cf3fdc2b557"
  },
  {
   "metadata": {
    "ExecuteTime": {
     "end_time": "2024-06-18T19:52:46.750623Z",
     "start_time": "2024-06-18T19:52:46.746270Z"
    }
   },
   "cell_type": "code",
   "source": [
    "alpha = 0.05\n",
    "print(\"Alpha: Significance Level is\", alpha)\n",
    "\n",
    "delta = 0.01\n",
    "print(\"Delta: Minimum Detectable Effect Size is\", delta)"
   ],
   "id": "a49b94aef057d9cb",
   "outputs": [
    {
     "name": "stdout",
     "output_type": "stream",
     "text": [
      "Alpha: Significance Level is 0.05\n",
      "Delta: Minimum Detectable Effect Size is 0.02\n"
     ]
    }
   ],
   "execution_count": 23
  },
  {
   "metadata": {},
   "cell_type": "markdown",
   "source": "***Calculating the total number of clicks in the control and experiment groups***",
   "id": "cbfb99a4fb89a152"
  },
  {
   "metadata": {
    "ExecuteTime": {
     "end_time": "2024-06-18T20:05:33.619327Z",
     "start_time": "2024-06-18T20:05:33.611033Z"
    }
   },
   "cell_type": "code",
   "source": [
    "#Number of clicks of control and experiment groups\n",
    "X_con = df.groupby(\"group\")['click'].sum().loc['con']\n",
    "X_exp = df.groupby(\"group\")['click'].sum().loc['exp']\n",
    "\n",
    "#Number in control and experiment groups\n",
    "N_con = df.groupby(\"group\").click.count().loc['con']\n",
    "N_exp = df.groupby(\"group\").click.count().loc['exp']\n",
    "\n",
    "print(f\"Total users in control group : {N_con}\")\n",
    "print(f\"Total users in experiment group : {N_exp}\")\n",
    "\n",
    "# print(df.groupby(\"group\")['click'].sum())\n",
    "print(\"Number of Clicks in Control Group:\", X_con)\n",
    "print(\"Number of Clicks in Experiment Group:\", X_exp)"
   ],
   "id": "524d7c175082e5e9",
   "outputs": [
    {
     "name": "stdout",
     "output_type": "stream",
     "text": [
      "Total users in control group : 10000\n",
      "Total users in experiment group : 10000\n",
      "Number of Clicks in Control Group: 1989\n",
      "Number of Clicks in Experiment Group: 6116\n"
     ]
    }
   ],
   "execution_count": 39
  },
  {
   "metadata": {},
   "cell_type": "markdown",
   "source": "***Calculating Pooled Estimate for Clicks per Group***",
   "id": "7ba26aec887fc263"
  },
  {
   "metadata": {
    "ExecuteTime": {
     "end_time": "2024-06-18T20:07:06.317059Z",
     "start_time": "2024-06-18T20:07:06.313314Z"
    }
   },
   "cell_type": "code",
   "source": [
    "#Probability of clicks per group\n",
    "p_con_hat = X_con / N_con\n",
    "p_exp_hat = X_exp / N_exp\n",
    "\n",
    "print(\"Click probability in control group:\", p_con_hat)\n",
    "print(\"Click probability in experiment group:\", p_exp_hat)\n",
    "\n",
    "#Pooled Click Probability\n",
    "p_pooled_hat = (X_con + X_exp) / (N_con + N_exp)\n",
    "print(\"Pooled Click Probability:\", p_pooled_hat)"
   ],
   "id": "3a2894e5dcdb17dd",
   "outputs": [
    {
     "name": "stdout",
     "output_type": "stream",
     "text": [
      "Click probability in control group: 0.1989\n",
      "Click probability in experiment group: 0.6116\n",
      "Pooled Click Probability: 0.40525\n"
     ]
    }
   ],
   "execution_count": 40
  },
  {
   "metadata": {},
   "cell_type": "markdown",
   "source": "***Calculating the Pooled Variance***",
   "id": "134e6cd8b3bb7b60"
  },
  {
   "metadata": {
    "ExecuteTime": {
     "end_time": "2024-06-18T20:25:31.683289Z",
     "start_time": "2024-06-18T20:25:31.679601Z"
    }
   },
   "cell_type": "code",
   "source": [
    "var_pooled = p_pooled_hat * (1 - p_pooled_hat) * (1 / N_con + 1 / N_exp)\n",
    "print(\"Pooled Probability:\", p_pooled_hat)\n",
    "print(\"Pooled Variance:\", var_pooled)"
   ],
   "id": "637706b2f8434a7e",
   "outputs": [
    {
     "name": "stdout",
     "output_type": "stream",
     "text": [
      "Pooled Probability: 0.40525\n",
      "Pooled Variance: 4.82044875e-05\n"
     ]
    }
   ],
   "execution_count": 42
  },
  {
   "metadata": {},
   "cell_type": "markdown",
   "source": "***Calculating the Standard Error and Test Statistics(of Z Test)***",
   "id": "1c4b4b63c2b705ec"
  },
  {
   "metadata": {
    "ExecuteTime": {
     "end_time": "2024-06-18T20:28:05.853280Z",
     "start_time": "2024-06-18T20:28:05.849055Z"
    }
   },
   "cell_type": "code",
   "source": [
    "SE = np.sqrt(var_pooled)\n",
    "print(\"Standard Error:\", SE)\n",
    "\n",
    "#Compute Test Statistics of 2 sampled Z Test\n",
    "Test_Statistic = (p_con_hat - p_exp_hat) / SE\n",
    "print(\"Test Statistics of 2 sampled Z-test is:\", Test_Statistic)\n",
    "\n",
    "#Calculate the critical value of Z test\n",
    "z_critical = stats.norm.ppf(1 - alpha / 2)\n",
    "print(\"Critical Value of Z test(Standard Normal Distribution):\", z_critical)"
   ],
   "id": "f4f8438719a32a43",
   "outputs": [
    {
     "name": "stdout",
     "output_type": "stream",
     "text": [
      "Standard Error: 0.006942945160376826\n",
      "Test Statistics: -59.44163326469381\n",
      "Critical Value of Z test(Standard Normal Distribution): 1.959963984540054\n"
     ]
    }
   ],
   "execution_count": 44
  },
  {
   "metadata": {},
   "cell_type": "markdown",
   "source": [
    "***Calculating the P-Value of Z-Test***\n",
    "\n",
    "A low p value (< 0.05) indicates strong evidence that the null hypothesis should be rejected.\n",
    "\n",
    "A high p value (> 0.05) indicates weak evidence against the null hypothesis so we fail to reject the null hypothesis."
   ],
   "id": "a5b9fe6410c1daad"
  },
  {
   "metadata": {},
   "cell_type": "markdown",
   "source": "# Statistical Significance Analysis",
   "id": "fe2d47b7140a0dd6"
  },
  {
   "metadata": {
    "ExecuteTime": {
     "end_time": "2024-06-18T20:42:46.795602Z",
     "start_time": "2024-06-18T20:42:46.790690Z"
    }
   },
   "cell_type": "code",
   "source": [
    "p_value = 2 * stats.norm.sf(np.abs(Test_Statistic))\n",
    "print(\"P-Value of Z-Test is:\", round(p_value,3)) # Two-tailed test\n",
    "\n",
    "#Function to check the statistical significance of the test\n",
    "def is_statistically_significant(p_value, alpha):\n",
    "    if p_value < alpha:\n",
    "        print(\"We have strong evidence to reject the null hypothesis\\nThere is statistical significance, indicating that the observed differences between the groups are unlikely to have occurred by chance alone.\\nThis suggests that the changes in the experimental group have a real effect compared to the control group.\")\n",
    "    else:\n",
    "        print(\"We have weak evidence against the null hypothesis so we fail to reject the null hypothesis\\nThere is no statistical significance, suggesting that the observed differences between the groups could have occurred by chance.\\nThis implies that the changes in the experimental group do not have a substantial effect compared to the control group.\")\n",
    "\n",
    "is_statistically_significant(p_value, alpha)"
   ],
   "id": "5eb97b77851fe3ee",
   "outputs": [
    {
     "name": "stdout",
     "output_type": "stream",
     "text": [
      "P-Value of Z-Test is: 0.0\n",
      "We have strong evidence to reject the null hypothesis\n",
      "There is statistical significance, indicating that the observed differences between the groups are unlikely to have occurred by chance alone.\n",
      "This suggests that the changes in the experimental group have a real effect compared to the control group.\n"
     ]
    }
   ],
   "execution_count": 48
  },
  {
   "metadata": {},
   "cell_type": "markdown",
   "source": "#Visualization of the Z-Test Results",
   "id": "89808e53ab21308d"
  },
  {
   "metadata": {
    "ExecuteTime": {
     "end_time": "2024-06-18T20:58:25.404755Z",
     "start_time": "2024-06-18T20:58:25.272927Z"
    }
   },
   "cell_type": "code",
   "source": [
    "# Parameters for the standard normal distribution\n",
    "mu = 0  # Mean\n",
    "sigma = 1  # Standard deviation\n",
    "x = np.linspace(mu - 3*sigma, mu + 3*sigma, 100)\n",
    "y = stats.norm.pdf(x, mu, sigma)\n",
    "\n",
    "\n",
    "# Plotting the standard normal distribution\n",
    "plt.plot(x, y, label='Standard Normal Distribution')\n",
    "# Shade the rejection region for a two-tailed test\n",
    "plt.fill_between(x, y, where=(x > z_critical) | (x < -z_critical), color='red', alpha=0.5, label='Rejection Region')\n",
    "# Adding Test Statistic\n",
    "plt.axvline(Test_Statistic, color='green', linestyle='dashed', linewidth=2, label=f'Test Statistic = {Test_Statistic:.2f}')\n",
    "# Adding Z-critical values\n",
    "plt.axvline(z_critical, color='blue', linestyle='dashed', linewidth=1, label=f'Z-critical = {z_critical:.2f}')\n",
    "plt.axvline(-z_critical, color='blue', linestyle='dashed', linewidth=1)\n",
    "\n",
    "# Adding labels and title\n",
    "plt.xlabel('Z-value')\n",
    "plt.ylabel('Probability Density')\n",
    "plt.title('Gaussian Distribution with Rejection Region \\n (A/B Testing for the button)')\n",
    "plt.legend()\n",
    "# Show plot\n",
    "plt.show()"
   ],
   "id": "6bd2e48fc5f1b7e4",
   "outputs": [
    {
     "data": {
      "text/plain": [
       "<Figure size 640x480 with 1 Axes>"
      ],
      "image/png": "[encoded data removed]"
     },
     "metadata": {},
     "output_type": "display_data"
    }
   ],
   "execution_count": 50
  },
  {
   "metadata": {},
   "cell_type": "markdown",
   "source": "***Calculating the Confidence Interval of the Test***",
   "id": "ecc938d73fa07f0"
  },
  {
   "metadata": {
    "ExecuteTime": {
     "end_time": "2024-06-18T20:59:49.004380Z",
     "start_time": "2024-06-18T20:59:49.000294Z"
    }
   },
   "cell_type": "code",
   "source": [
    "MOE = z_critical * SE\n",
    "CI = [\n",
    "    round((p_exp_hat - p_con_hat) - MOE, 3),\n",
    "    round((p_exp_hat - p_con_hat) + MOE, 3)\n",
    "]\n",
    "\n",
    "print(\"Confidence Interval of the 2-sampled Z Test is:\", CI)"
   ],
   "id": "b808147863a38213",
   "outputs": [
    {
     "name": "stdout",
     "output_type": "stream",
     "text": [
      "Confidence Interval of the 2-sampled Z Test is: [np.float64(0.399), np.float64(0.426)]\n"
     ]
    }
   ],
   "execution_count": 51
  },
  {
   "metadata": {},
   "cell_type": "markdown",
   "source": "# Testing for Practical Significance in A/B Testing",
   "id": "9bb7709a710dd5bd"
  },
  {
   "metadata": {
    "ExecuteTime": {
     "end_time": "2024-06-18T21:11:24.236910Z",
     "start_time": "2024-06-18T21:11:24.232676Z"
    }
   },
   "cell_type": "code",
   "source": [
    "def is_practically_significant(ci, delta):\n",
    "    \n",
    "    lower_bound = ci[0]\n",
    "    \n",
    "    if lower_bound <= delta:\n",
    "        print(\"We have practical significance! \\nWith MDE of {delta}, The difference between Control and Experimental group is practically significant\")\n",
    "    else:\n",
    "        print(\"We do not have practical significance! \\nWith MDE of {delta}, The difference between Control and Experimental group is not practically significant\")\n",
    "delta = 0.5\n",
    "print(\"Minimum Detectable Effect Size:\", delta)\n",
    "print(\"Confidence Interval of the 2-sampled Z Test is:\", CI)\n",
    "is_practically_significant(CI, delta)"
   ],
   "id": "71327e107964b839",
   "outputs": [
    {
     "name": "stdout",
     "output_type": "stream",
     "text": [
      "Minimum Detectable Effect Size: 0.5\n",
      "Confidence Interval of the 2-sampled Z Test is: [np.float64(0.399), np.float64(0.426)]\n",
      "We have practical significance! \n",
      "With MDE of {delta}, The difference between Control and Experimental group is practically significant\n"
     ]
    }
   ],
   "execution_count": 58
  },
  {
   "metadata": {},
   "cell_type": "code",
   "outputs": [],
   "execution_count": null,
   "source": "",
   "id": "f6b07dc6a3d2f779"
  }
 ],
 "metadata": {
  "kernelspec": {
   "display_name": "Python 3",
   "language": "python",
   "name": "python3"
  },
  "language_info": {
   "codemirror_mode": {
    "name": "ipython",
    "version": 2
   },
   "file_extension": ".py",
   "mimetype": "text/x-python",
   "name": "python",
   "nbconvert_exporter": "python",
   "pygments_lexer": "ipython2",
   "version": "2.7.6"
  }
 },
 "nbformat": 4,
 "nbformat_minor": 5
}
